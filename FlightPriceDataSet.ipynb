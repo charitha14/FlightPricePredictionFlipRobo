{
 "cells": [
  {
   "cell_type": "code",
   "execution_count": 1,
   "id": "3982032b",
   "metadata": {},
   "outputs": [],
   "source": [
    "import pandas as pd\n",
    "import numpy as np\n",
    "import time\n",
    "import selenium\n",
    "from selenium import webdriver\n",
    "from selenium.common.exceptions import StaleElementReferenceException, NoSuchElementException\n",
    "from selenium.webdriver.support.ui import WebDriverWait\n",
    "from selenium.webdriver.common.by import By\n",
    "from selenium.webdriver.support import expected_conditions as EC\n"
   ]
  },
  {
   "cell_type": "code",
   "execution_count": 2,
   "id": "e13af1ab",
   "metadata": {},
   "outputs": [],
   "source": [
    "import warnings\n",
    "warnings.filterwarnings('ignore')\n",
    "driver=webdriver.Chrome(r\"C:\\Users\\HUCON SOLUTIONS PVT\\Downloads\\chromedriver_win32 (2)\\chromedriver.exe\")\n",
    "\n"
   ]
  },
  {
   "cell_type": "code",
   "execution_count": 3,
   "id": "8c5002b0",
   "metadata": {},
   "outputs": [],
   "source": [
    "url = \"https://www.yatra.com/\"\n",
    "driver.get(url)\n",
    "time.sleep(2)\n",
    "\n"
   ]
  },
  {
   "cell_type": "code",
   "execution_count": 4,
   "id": "d80af7e3",
   "metadata": {},
   "outputs": [],
   "source": [
    "Airlines = []\n",
    "Aeroplane = []\n",
    "Dept_time = []\n",
    "Arrival_time = []\n",
    "Source = []\n",
    "Destination = []\n",
    "Duration = []\n",
    "Stops = []\n",
    "Date = []\n",
    "Price = []\n",
    "\n"
   ]
  },
  {
   "cell_type": "code",
   "execution_count": 5,
   "id": "c02b015a",
   "metadata": {},
   "outputs": [
    {
     "name": "stderr",
     "output_type": "stream",
     "text": [
      "100%|██████████| 50/50 [00:16<00:00,  3.10it/s]\n"
     ]
    }
   ],
   "source": [
    "from tqdm import tqdm\n",
    "for _ in tqdm (range(0,50)):\n",
    "    time.sleep(0.1)\n",
    "    driver.execute_script(\"window.scrollBy(0,2000)\",\"\")\n",
    "    time.sleep(0.2)\n",
    "    driver.execute_script(\"window.scrollBy(0,-500)\",\"\")\n"
   ]
  },
  {
   "cell_type": "code",
   "execution_count": 11,
   "id": "06c426ed",
   "metadata": {},
   "outputs": [
    {
     "data": {
      "text/plain": [
       "0"
      ]
     },
     "execution_count": 11,
     "metadata": {},
     "output_type": "execute_result"
    }
   ],
   "source": [
    "flights=driver.find_elements(By.XPATH,'//div[@class=\"flight-det table full-width clearfix\"]')\n",
    "len(flights)"
   ]
  },
  {
   "cell_type": "code",
   "execution_count": 15,
   "id": "0ef1b820",
   "metadata": {},
   "outputs": [
    {
     "name": "stderr",
     "output_type": "stream",
     "text": [
      "0it [00:00, ?it/s]\n",
      "0it [00:00, ?it/s]\n",
      "0it [00:00, ?it/s]\n",
      "0it [00:00, ?it/s]\n",
      "0it [00:00, ?it/s]\n",
      "0it [00:00, ?it/s]\n",
      "0it [00:00, ?it/s]\n",
      "0it [00:00, ?it/s]\n"
     ]
    },
    {
     "ename": "TimeoutException",
     "evalue": "Message: \nStacktrace:\nBacktrace:\n\tOrdinal0 [0x0041DF13+2219795]\n\tOrdinal0 [0x003B2841+1779777]\n\tOrdinal0 [0x002C423D+803389]\n\tOrdinal0 [0x002F3025+995365]\n\tOrdinal0 [0x002F31EB+995819]\n\tOrdinal0 [0x00320F52+1183570]\n\tOrdinal0 [0x0030E844+1108036]\n\tOrdinal0 [0x0031F192+1175954]\n\tOrdinal0 [0x0030E616+1107478]\n\tOrdinal0 [0x002E7F89+950153]\n\tOrdinal0 [0x002E8F56+954198]\n\tGetHandleVerifier [0x00712CB2+3040210]\n\tGetHandleVerifier [0x00702BB4+2974420]\n\tGetHandleVerifier [0x004B6A0A+565546]\n\tGetHandleVerifier [0x004B5680+560544]\n\tOrdinal0 [0x003B9A5C+1808988]\n\tOrdinal0 [0x003BE3A8+1827752]\n\tOrdinal0 [0x003BE495+1827989]\n\tOrdinal0 [0x003C80A4+1867940]\n\tBaseThreadInitThunk [0x76816739+25]\n\tRtlGetFullPathName_UEx [0x771390AF+1215]\n\tRtlGetFullPathName_UEx [0x7713907D+1165]\n",
     "output_type": "error",
     "traceback": [
      "\u001b[1;31m---------------------------------------------------------------------------\u001b[0m",
      "\u001b[1;31mTimeoutException\u001b[0m                          Traceback (most recent call last)",
      "\u001b[1;32mC:\\Users\\HUCONS~1\\AppData\\Local\\Temp/ipykernel_10308/3266377764.py\u001b[0m in \u001b[0;36m<module>\u001b[1;34m\u001b[0m\n\u001b[0;32m     66\u001b[0m \u001b[1;31m# Clicking on Flights details element\u001b[0m\u001b[1;33m\u001b[0m\u001b[1;33m\u001b[0m\u001b[0m\n\u001b[0;32m     67\u001b[0m \u001b[0mButton\u001b[0m \u001b[1;33m=\u001b[0m \u001b[0mdriver\u001b[0m\u001b[1;33m.\u001b[0m\u001b[0mfind_elements\u001b[0m\u001b[1;33m(\u001b[0m\u001b[0mBy\u001b[0m\u001b[1;33m.\u001b[0m\u001b[0mXPATH\u001b[0m\u001b[1;33m,\u001b[0m\u001b[1;34m'//div[@class=\"link-color fs-12 cursor-pointer\"]/span'\u001b[0m\u001b[1;33m)\u001b[0m\u001b[1;33m\u001b[0m\u001b[1;33m\u001b[0m\u001b[0m\n\u001b[1;32m---> 68\u001b[1;33m \u001b[0mdriver\u001b[0m\u001b[1;33m.\u001b[0m\u001b[0mexecute_script\u001b[0m\u001b[1;33m(\u001b[0m\u001b[1;34m\"arguments[0].click();\"\u001b[0m\u001b[1;33m,\u001b[0m \u001b[0mWebDriverWait\u001b[0m\u001b[1;33m(\u001b[0m\u001b[0mdriver\u001b[0m\u001b[1;33m,\u001b[0m \u001b[1;36m20\u001b[0m\u001b[1;33m)\u001b[0m\u001b[1;33m.\u001b[0m\u001b[0muntil\u001b[0m\u001b[1;33m(\u001b[0m\u001b[0mEC\u001b[0m\u001b[1;33m.\u001b[0m\u001b[0melement_to_be_clickable\u001b[0m\u001b[1;33m(\u001b[0m\u001b[1;33m(\u001b[0m\u001b[0mBy\u001b[0m\u001b[1;33m.\u001b[0m\u001b[0mXPATH\u001b[0m\u001b[1;33m,\u001b[0m\u001b[1;34m'//div[@class=\"link-color fs-12 cursor-pointer\"]/span'\u001b[0m\u001b[1;33m)\u001b[0m\u001b[1;33m)\u001b[0m\u001b[1;33m)\u001b[0m\u001b[1;33m)\u001b[0m\u001b[1;33m\u001b[0m\u001b[1;33m\u001b[0m\u001b[0m\n\u001b[0m\u001b[0;32m     69\u001b[0m \u001b[0mtime\u001b[0m\u001b[1;33m.\u001b[0m\u001b[0msleep\u001b[0m\u001b[1;33m(\u001b[0m\u001b[1;36m1\u001b[0m\u001b[1;33m)\u001b[0m\u001b[1;33m\u001b[0m\u001b[1;33m\u001b[0m\u001b[0m\n\u001b[0;32m     70\u001b[0m \u001b[1;33m\u001b[0m\u001b[0m\n",
      "\u001b[1;32m~\\anaconda3\\lib\\site-packages\\selenium\\webdriver\\support\\wait.py\u001b[0m in \u001b[0;36muntil\u001b[1;34m(self, method, message)\u001b[0m\n\u001b[0;32m     88\u001b[0m             \u001b[1;32mif\u001b[0m \u001b[0mtime\u001b[0m\u001b[1;33m.\u001b[0m\u001b[0mmonotonic\u001b[0m\u001b[1;33m(\u001b[0m\u001b[1;33m)\u001b[0m \u001b[1;33m>\u001b[0m \u001b[0mend_time\u001b[0m\u001b[1;33m:\u001b[0m\u001b[1;33m\u001b[0m\u001b[1;33m\u001b[0m\u001b[0m\n\u001b[0;32m     89\u001b[0m                 \u001b[1;32mbreak\u001b[0m\u001b[1;33m\u001b[0m\u001b[1;33m\u001b[0m\u001b[0m\n\u001b[1;32m---> 90\u001b[1;33m         \u001b[1;32mraise\u001b[0m \u001b[0mTimeoutException\u001b[0m\u001b[1;33m(\u001b[0m\u001b[0mmessage\u001b[0m\u001b[1;33m,\u001b[0m \u001b[0mscreen\u001b[0m\u001b[1;33m,\u001b[0m \u001b[0mstacktrace\u001b[0m\u001b[1;33m)\u001b[0m\u001b[1;33m\u001b[0m\u001b[1;33m\u001b[0m\u001b[0m\n\u001b[0m\u001b[0;32m     91\u001b[0m \u001b[1;33m\u001b[0m\u001b[0m\n\u001b[0;32m     92\u001b[0m     \u001b[1;32mdef\u001b[0m \u001b[0muntil_not\u001b[0m\u001b[1;33m(\u001b[0m\u001b[0mself\u001b[0m\u001b[1;33m,\u001b[0m \u001b[0mmethod\u001b[0m\u001b[1;33m,\u001b[0m \u001b[0mmessage\u001b[0m\u001b[1;33m:\u001b[0m \u001b[0mstr\u001b[0m \u001b[1;33m=\u001b[0m \u001b[1;34m\"\"\u001b[0m\u001b[1;33m)\u001b[0m\u001b[1;33m:\u001b[0m\u001b[1;33m\u001b[0m\u001b[1;33m\u001b[0m\u001b[0m\n",
      "\u001b[1;31mTimeoutException\u001b[0m: Message: \nStacktrace:\nBacktrace:\n\tOrdinal0 [0x0041DF13+2219795]\n\tOrdinal0 [0x003B2841+1779777]\n\tOrdinal0 [0x002C423D+803389]\n\tOrdinal0 [0x002F3025+995365]\n\tOrdinal0 [0x002F31EB+995819]\n\tOrdinal0 [0x00320F52+1183570]\n\tOrdinal0 [0x0030E844+1108036]\n\tOrdinal0 [0x0031F192+1175954]\n\tOrdinal0 [0x0030E616+1107478]\n\tOrdinal0 [0x002E7F89+950153]\n\tOrdinal0 [0x002E8F56+954198]\n\tGetHandleVerifier [0x00712CB2+3040210]\n\tGetHandleVerifier [0x00702BB4+2974420]\n\tGetHandleVerifier [0x004B6A0A+565546]\n\tGetHandleVerifier [0x004B5680+560544]\n\tOrdinal0 [0x003B9A5C+1808988]\n\tOrdinal0 [0x003BE3A8+1827752]\n\tOrdinal0 [0x003BE495+1827989]\n\tOrdinal0 [0x003C80A4+1867940]\n\tBaseThreadInitThunk [0x76816739+25]\n\tRtlGetFullPathName_UEx [0x771390AF+1215]\n\tRtlGetFullPathName_UEx [0x7713907D+1165]\n"
     ]
    }
   ],
   "source": [
    "airlines = driver.find_elements(By.XPATH,\"//div[@class='fs-13 airline-name no-pad col-8']/span\")\n",
    "for i in airlines:\n",
    "    Airlines.append(i.text.replace(\"\\n\",\" \"))\n",
    "else :\n",
    "    pass\n",
    "\n",
    "# Extracting Aeroplane model  via xpath\n",
    "aeroplanes = driver.find_elements(By.XPATH,'//p[@class=\"normal fs-11 font-lightestgrey no-wrap fl-no\"]/span')\n",
    "for i in tqdm(aeroplanes):\n",
    "    Aeroplane.append(i.text) \n",
    "else:\n",
    "    pass\n",
    "\n",
    "# Extracting Departure Time of Filght via Xpath\n",
    "dept_times = driver.find_elements(By.XPATH,'//div[@class=\"i-b pr\"]')\n",
    "for i in tqdm(dept_times):\n",
    "    Dept_time.append(i.text)\n",
    "else :\n",
    "    pass\n",
    "\n",
    "# Extracting Arrival Time via xpath\n",
    "arrival = driver.find_elements(By.XPATH,'//p[@class=\"bold fs-15 mb-2 pr time\"]')\n",
    "for i in tqdm(arrival):\n",
    "    Arrival_time.append(i.text)\n",
    "else :\n",
    "    pass\n",
    "\n",
    "# Extracting Source of flight via Xpath\n",
    "source = driver.find_elements(By.XPATH,\"//div[@class='i-b col-4 no-wrap text-right dtime col-3']/p\")\n",
    "for i in tqdm(source):\n",
    "    Source.append(i.text)\n",
    "else :\n",
    "    pass\n",
    "\n",
    "# Extracting Destination of Flights via Xpath\n",
    "destination = driver.find_elements(By.XPATH,'//div[@class=\"i-b pdd-0 text-left atime col-5\"]/p[2]')\n",
    "for i in tqdm(destination):\n",
    "    Destination.append(i.text)\n",
    "else:\n",
    "    pass\n",
    "\n",
    "# Extracting Duration of Flights via Xpath\n",
    "duration = driver.find_elements(By.XPATH,'//div[@class=\"stop-cont pl-13\"]/p')\n",
    "for i in tqdm(duration):\n",
    "    Duration.append(i.text)\n",
    "else:\n",
    "    pass\n",
    "\n",
    "# Extracting stop details via Xpath\n",
    "stop = driver.find_elements(By.XPATH,\"//div[@class='stop-cont pl-13']/div/span\")\n",
    "for i in tqdm(stop):\n",
    "    Stops.append(i.text)\n",
    "else:\n",
    "    pass\n",
    "\n",
    "# Extracting Price of Flights via Xpath\n",
    "count = 0\n",
    "price = driver.find_elements(By.XPATH,'//div[@class=\"i-b tipsy fare-summary-tooltip fs-18\"]')\n",
    "for i in tqdm(price):\n",
    "    Price.append(i.text.replace(',',''))\n",
    "    count = count +1\n",
    "else:\n",
    "    count = count +1\n",
    "    pass\n",
    "\n",
    "# Clicking on Flights details element\n",
    "Button = driver.find_elements(By.XPATH,'//div[@class=\"link-color fs-12 cursor-pointer\"]/span')\n",
    "driver.execute_script(\"arguments[0].click();\", WebDriverWait(driver, 20).until(EC.element_to_be_clickable((By.XPATH,'//div[@class=\"link-color fs-12 cursor-pointer\"]/span'))))\n",
    "time.sleep(1)\n",
    "\n",
    "# Extracting Date of Flights via Xpath\n",
    "date = driver.find_elements(By.XPATH,'//div[@class=\"bold fs-12 mb-5\"]')\n",
    "a = date.text\n",
    "for i in tqdm(range(count-1)):\n",
    "    Date.append(a)\n",
    "else:\n",
    "    pass\n",
    "\n"
   ]
  },
  {
   "cell_type": "code",
   "execution_count": 16,
   "id": "595a531f",
   "metadata": {},
   "outputs": [
    {
     "data": {
      "text/plain": [
       "(0, 0, 0, 0, 0, 0, 0, 0, 0, 0)"
      ]
     },
     "execution_count": 16,
     "metadata": {},
     "output_type": "execute_result"
    }
   ],
   "source": [
    "len(Aeroplane), len(Airlines), len(Dept_time), len(Arrival_time), len(Source), len(Destination), len(Duration), len(Stops),len(Price), len(Date)"
   ]
  },
  {
   "cell_type": "code",
   "execution_count": 17,
   "id": "fc697d61",
   "metadata": {},
   "outputs": [],
   "source": [
    "url = \"https://flight.yatra.com/air-search-ui/dom2/trigger?ADT=1&CHD=0&INF=0&class=Economy&destination=BOM&destinationCountry=IN&flexi=0&flight_depart_date=20%2F09%2F2022&hb=&noOfSegments=1&origin=DEL&originCountry=IN&type=O&unique=1663476552695&viewName=normal\"\n",
    "driver.get(url)\n",
    "time.sleep(2)"
   ]
  },
  {
   "cell_type": "code",
   "execution_count": 18,
   "id": "fb4b52c4",
   "metadata": {},
   "outputs": [
    {
     "data": {
      "text/plain": [
       "0"
      ]
     },
     "execution_count": 18,
     "metadata": {},
     "output_type": "execute_result"
    }
   ],
   "source": [
    "flights=driver.find_elements(By.XPATH,'//div[@class=\"flight-det table full-width clearfix\"]')\n",
    "len(flights)"
   ]
  },
  {
   "cell_type": "code",
   "execution_count": 19,
   "id": "84262d5d",
   "metadata": {},
   "outputs": [
    {
     "name": "stderr",
     "output_type": "stream",
     "text": [
      "0it [00:00, ?it/s]\n",
      "0it [00:00, ?it/s]\n",
      "0it [00:00, ?it/s]\n",
      "0it [00:00, ?it/s]\n",
      "0it [00:00, ?it/s]\n",
      "0it [00:00, ?it/s]\n",
      "0it [00:00, ?it/s]\n",
      "0it [00:00, ?it/s]\n"
     ]
    },
    {
     "ename": "TimeoutException",
     "evalue": "Message: \nStacktrace:\nBacktrace:\n\tOrdinal0 [0x0041DF13+2219795]\n\tOrdinal0 [0x003B2841+1779777]\n\tOrdinal0 [0x002C423D+803389]\n\tOrdinal0 [0x002F3025+995365]\n\tOrdinal0 [0x002F31EB+995819]\n\tOrdinal0 [0x00320F52+1183570]\n\tOrdinal0 [0x0030E844+1108036]\n\tOrdinal0 [0x0031F192+1175954]\n\tOrdinal0 [0x0030E616+1107478]\n\tOrdinal0 [0x002E7F89+950153]\n\tOrdinal0 [0x002E8F56+954198]\n\tGetHandleVerifier [0x00712CB2+3040210]\n\tGetHandleVerifier [0x00702BB4+2974420]\n\tGetHandleVerifier [0x004B6A0A+565546]\n\tGetHandleVerifier [0x004B5680+560544]\n\tOrdinal0 [0x003B9A5C+1808988]\n\tOrdinal0 [0x003BE3A8+1827752]\n\tOrdinal0 [0x003BE495+1827989]\n\tOrdinal0 [0x003C80A4+1867940]\n\tBaseThreadInitThunk [0x76816739+25]\n\tRtlGetFullPathName_UEx [0x771390AF+1215]\n\tRtlGetFullPathName_UEx [0x7713907D+1165]\n",
     "output_type": "error",
     "traceback": [
      "\u001b[1;31m---------------------------------------------------------------------------\u001b[0m",
      "\u001b[1;31mTimeoutException\u001b[0m                          Traceback (most recent call last)",
      "\u001b[1;32mC:\\Users\\HUCONS~1\\AppData\\Local\\Temp/ipykernel_10308/4268687258.py\u001b[0m in \u001b[0;36m<module>\u001b[1;34m\u001b[0m\n\u001b[0;32m     66\u001b[0m \u001b[1;31m# Clicking on Flights details element\u001b[0m\u001b[1;33m\u001b[0m\u001b[1;33m\u001b[0m\u001b[0m\n\u001b[0;32m     67\u001b[0m \u001b[0mButton\u001b[0m \u001b[1;33m=\u001b[0m \u001b[0mdriver\u001b[0m\u001b[1;33m.\u001b[0m\u001b[0mfind_elements\u001b[0m\u001b[1;33m(\u001b[0m\u001b[0mBy\u001b[0m\u001b[1;33m.\u001b[0m\u001b[0mXPATH\u001b[0m\u001b[1;33m,\u001b[0m\u001b[1;34m'//div[@class=\"link-color fs-12 cursor-pointer\"]/span'\u001b[0m\u001b[1;33m)\u001b[0m\u001b[1;33m\u001b[0m\u001b[1;33m\u001b[0m\u001b[0m\n\u001b[1;32m---> 68\u001b[1;33m \u001b[0mdriver\u001b[0m\u001b[1;33m.\u001b[0m\u001b[0mexecute_script\u001b[0m\u001b[1;33m(\u001b[0m\u001b[1;34m\"arguments[0].click();\"\u001b[0m\u001b[1;33m,\u001b[0m \u001b[0mWebDriverWait\u001b[0m\u001b[1;33m(\u001b[0m\u001b[0mdriver\u001b[0m\u001b[1;33m,\u001b[0m \u001b[1;36m20\u001b[0m\u001b[1;33m)\u001b[0m\u001b[1;33m.\u001b[0m\u001b[0muntil\u001b[0m\u001b[1;33m(\u001b[0m\u001b[0mEC\u001b[0m\u001b[1;33m.\u001b[0m\u001b[0melement_to_be_clickable\u001b[0m\u001b[1;33m(\u001b[0m\u001b[1;33m(\u001b[0m\u001b[0mBy\u001b[0m\u001b[1;33m.\u001b[0m\u001b[0mXPATH\u001b[0m\u001b[1;33m,\u001b[0m\u001b[1;34m'//div[@class=\"link-color fs-12 cursor-pointer\"]/span'\u001b[0m\u001b[1;33m)\u001b[0m\u001b[1;33m)\u001b[0m\u001b[1;33m)\u001b[0m\u001b[1;33m)\u001b[0m\u001b[1;33m\u001b[0m\u001b[1;33m\u001b[0m\u001b[0m\n\u001b[0m\u001b[0;32m     69\u001b[0m \u001b[0mtime\u001b[0m\u001b[1;33m.\u001b[0m\u001b[0msleep\u001b[0m\u001b[1;33m(\u001b[0m\u001b[1;36m0.25\u001b[0m\u001b[1;33m)\u001b[0m\u001b[1;33m\u001b[0m\u001b[1;33m\u001b[0m\u001b[0m\n\u001b[0;32m     70\u001b[0m \u001b[1;33m\u001b[0m\u001b[0m\n",
      "\u001b[1;32m~\\anaconda3\\lib\\site-packages\\selenium\\webdriver\\support\\wait.py\u001b[0m in \u001b[0;36muntil\u001b[1;34m(self, method, message)\u001b[0m\n\u001b[0;32m     88\u001b[0m             \u001b[1;32mif\u001b[0m \u001b[0mtime\u001b[0m\u001b[1;33m.\u001b[0m\u001b[0mmonotonic\u001b[0m\u001b[1;33m(\u001b[0m\u001b[1;33m)\u001b[0m \u001b[1;33m>\u001b[0m \u001b[0mend_time\u001b[0m\u001b[1;33m:\u001b[0m\u001b[1;33m\u001b[0m\u001b[1;33m\u001b[0m\u001b[0m\n\u001b[0;32m     89\u001b[0m                 \u001b[1;32mbreak\u001b[0m\u001b[1;33m\u001b[0m\u001b[1;33m\u001b[0m\u001b[0m\n\u001b[1;32m---> 90\u001b[1;33m         \u001b[1;32mraise\u001b[0m \u001b[0mTimeoutException\u001b[0m\u001b[1;33m(\u001b[0m\u001b[0mmessage\u001b[0m\u001b[1;33m,\u001b[0m \u001b[0mscreen\u001b[0m\u001b[1;33m,\u001b[0m \u001b[0mstacktrace\u001b[0m\u001b[1;33m)\u001b[0m\u001b[1;33m\u001b[0m\u001b[1;33m\u001b[0m\u001b[0m\n\u001b[0m\u001b[0;32m     91\u001b[0m \u001b[1;33m\u001b[0m\u001b[0m\n\u001b[0;32m     92\u001b[0m     \u001b[1;32mdef\u001b[0m \u001b[0muntil_not\u001b[0m\u001b[1;33m(\u001b[0m\u001b[0mself\u001b[0m\u001b[1;33m,\u001b[0m \u001b[0mmethod\u001b[0m\u001b[1;33m,\u001b[0m \u001b[0mmessage\u001b[0m\u001b[1;33m:\u001b[0m \u001b[0mstr\u001b[0m \u001b[1;33m=\u001b[0m \u001b[1;34m\"\"\u001b[0m\u001b[1;33m)\u001b[0m\u001b[1;33m:\u001b[0m\u001b[1;33m\u001b[0m\u001b[1;33m\u001b[0m\u001b[0m\n",
      "\u001b[1;31mTimeoutException\u001b[0m: Message: \nStacktrace:\nBacktrace:\n\tOrdinal0 [0x0041DF13+2219795]\n\tOrdinal0 [0x003B2841+1779777]\n\tOrdinal0 [0x002C423D+803389]\n\tOrdinal0 [0x002F3025+995365]\n\tOrdinal0 [0x002F31EB+995819]\n\tOrdinal0 [0x00320F52+1183570]\n\tOrdinal0 [0x0030E844+1108036]\n\tOrdinal0 [0x0031F192+1175954]\n\tOrdinal0 [0x0030E616+1107478]\n\tOrdinal0 [0x002E7F89+950153]\n\tOrdinal0 [0x002E8F56+954198]\n\tGetHandleVerifier [0x00712CB2+3040210]\n\tGetHandleVerifier [0x00702BB4+2974420]\n\tGetHandleVerifier [0x004B6A0A+565546]\n\tGetHandleVerifier [0x004B5680+560544]\n\tOrdinal0 [0x003B9A5C+1808988]\n\tOrdinal0 [0x003BE3A8+1827752]\n\tOrdinal0 [0x003BE495+1827989]\n\tOrdinal0 [0x003C80A4+1867940]\n\tBaseThreadInitThunk [0x76816739+25]\n\tRtlGetFullPathName_UEx [0x771390AF+1215]\n\tRtlGetFullPathName_UEx [0x7713907D+1165]\n"
     ]
    }
   ],
   "source": [
    "airlines = driver.find_elements(By.XPATH,\"//div[@class='fs-13 airline-name no-pad col-8']/span\")\n",
    "for i in airlines:\n",
    "    Airlines.append(i.text.replace(\"\\n\",\" \"))\n",
    "else :\n",
    "    pass\n",
    "\n",
    "# Extracting Aeroplane model  via xpath\n",
    "aeroplanes = driver.find_elements(By.XPATH,'//p[@class=\"normal fs-11 font-lightestgrey no-wrap fl-no\"]/span')\n",
    "for i in tqdm(aeroplanes):\n",
    "    Aeroplane.append(i.text) \n",
    "else:\n",
    "    pass\n",
    "\n",
    "# Extracting Departure Time of Filght via Xpath\n",
    "dept_times = driver.find_elements(By.XPATH,'//div[@class=\"i-b pr\"]')\n",
    "for i in tqdm(dept_times):\n",
    "    Dept_time.append(i.text)\n",
    "else :\n",
    "    pass\n",
    "\n",
    "# Extracting Arrival Time via xpath\n",
    "arrival = driver.find_elements(By.XPATH,'//p[@class=\"bold fs-15 mb-2 pr time\"]')\n",
    "for i in tqdm(arrival):\n",
    "    Arrival_time.append(i.text)\n",
    "else :\n",
    "    pass\n",
    "\n",
    "# Extracting Source of flight via Xpath\n",
    "source = driver.find_elements(By.XPATH,\"//div[@class='i-b col-4 no-wrap text-right dtime col-3']/p\")\n",
    "for i in tqdm(source):\n",
    "    Source.append(i.text)\n",
    "else :\n",
    "    pass\n",
    "\n",
    "# Extracting Destination of Flights via Xpath\n",
    "destination = driver.find_elements(By.XPATH,'//div[@class=\"i-b pdd-0 text-left atime col-5\"]/p[2]')\n",
    "for i in tqdm(destination):\n",
    "    Destination.append(i.text)\n",
    "else:\n",
    "    pass\n",
    "\n",
    "# Extracting Duration of Flights via Xpath\n",
    "duration = driver.find_elements(By.XPATH,'//div[@class=\"stop-cont pl-13\"]/p')\n",
    "for i in tqdm(duration):\n",
    "    Duration.append(i.text)\n",
    "else:\n",
    "    pass\n",
    "\n",
    "# Extracting stop details via Xpath\n",
    "stop = driver.find_elements(By.XPATH,\"//div[@class='stop-cont pl-13']/div/span\")\n",
    "for i in tqdm(stop):\n",
    "    Stops.append(i.text)\n",
    "else:\n",
    "    pass\n",
    "\n",
    "# Extracting Price of Flights via Xpath\n",
    "count = 0\n",
    "price = driver.find_elements(By.XPATH,'//div[@class=\"i-b tipsy fare-summary-tooltip fs-18\"]')\n",
    "for i in tqdm(price):\n",
    "    Price.append(i.text.replace(',',''))\n",
    "    count = count +1\n",
    "else:\n",
    "    count = count +1\n",
    "    pass\n",
    "\n",
    "# Clicking on Flights details element\n",
    "Button = driver.find_elements(By.XPATH,'//div[@class=\"link-color fs-12 cursor-pointer\"]/span')\n",
    "driver.execute_script(\"arguments[0].click();\", WebDriverWait(driver, 20).until(EC.element_to_be_clickable((By.XPATH,'//div[@class=\"link-color fs-12 cursor-pointer\"]/span'))))\n",
    "time.sleep(0.25)\n",
    "\n",
    "# Extracting Date of Flights via Xpath\n",
    "date = driver.find_element(By.XPATH,'//div[@class=\"bold fs-12 mb-5\"]')\n",
    "a = date.text\n",
    "for i in tqdm(range(count-1)):\n",
    "    Date.append(a)\n",
    "else:\n",
    "    pass\n",
    "\n"
   ]
  },
  {
   "cell_type": "code",
   "execution_count": 20,
   "id": "7b595771",
   "metadata": {},
   "outputs": [
    {
     "data": {
      "text/plain": [
       "(0, 0, 0, 0, 0, 0, 0, 0, 0, 0)"
      ]
     },
     "execution_count": 20,
     "metadata": {},
     "output_type": "execute_result"
    }
   ],
   "source": [
    "len(Aeroplane), len(Airlines), len(Dept_time), len(Arrival_time), len(Source), len(Destination), len(Duration), len(Stops),len(Price), len(Date)\n",
    "\n"
   ]
  },
  {
   "cell_type": "code",
   "execution_count": 21,
   "id": "505c759f",
   "metadata": {},
   "outputs": [],
   "source": [
    "url = \"https://flight.yatra.com/air-search-ui/dom2/trigger?ADT=1&CHD=0&INF=0&class=Economy&destination=BOM&destinationCountry=IN&flexi=0&flight_depart_date=21%2F09%2F2022&hb=&noOfSegments=1&origin=DEL&originCountry=IN&type=O&unique=1663477459570&viewName=normal\"\n",
    "driver.get(url)\n",
    "time.sleep(2)"
   ]
  },
  {
   "cell_type": "code",
   "execution_count": 22,
   "id": "6bd984ff",
   "metadata": {},
   "outputs": [
    {
     "name": "stderr",
     "output_type": "stream",
     "text": [
      "100%|██████████| 75/75 [00:24<00:00,  3.04it/s]\n"
     ]
    }
   ],
   "source": [
    "from tqdm import tqdm\n",
    "for _ in tqdm (range(0,75)):\n",
    "    time.sleep(0.1)\n",
    "    driver.execute_script(\"window.scrollBy(0,1500)\",\"\")\n",
    "    time.sleep(0.2)\n",
    "    driver.execute_script(\"window.scrollBy(0,-500)\",\"\")"
   ]
  },
  {
   "cell_type": "code",
   "execution_count": 23,
   "id": "0ae1c5c4",
   "metadata": {},
   "outputs": [
    {
     "data": {
      "text/plain": [
       "0"
      ]
     },
     "execution_count": 23,
     "metadata": {},
     "output_type": "execute_result"
    }
   ],
   "source": [
    "flights=driver.find_elements(By.XPATH,'//div[@class=\"flight-det table full-width clearfix\"]')\n",
    "len(flights)"
   ]
  },
  {
   "cell_type": "code",
   "execution_count": 24,
   "id": "d26dbdd4",
   "metadata": {},
   "outputs": [
    {
     "name": "stderr",
     "output_type": "stream",
     "text": [
      "0it [00:00, ?it/s]\n",
      "0it [00:00, ?it/s]\n",
      "0it [00:00, ?it/s]\n",
      "0it [00:00, ?it/s]\n",
      "0it [00:00, ?it/s]\n",
      "0it [00:00, ?it/s]\n",
      "0it [00:00, ?it/s]\n",
      "0it [00:00, ?it/s]\n"
     ]
    },
    {
     "ename": "TimeoutException",
     "evalue": "Message: \nStacktrace:\nBacktrace:\n\tOrdinal0 [0x0041DF13+2219795]\n\tOrdinal0 [0x003B2841+1779777]\n\tOrdinal0 [0x002C423D+803389]\n\tOrdinal0 [0x002F3025+995365]\n\tOrdinal0 [0x002F31EB+995819]\n\tOrdinal0 [0x00320F52+1183570]\n\tOrdinal0 [0x0030E844+1108036]\n\tOrdinal0 [0x0031F192+1175954]\n\tOrdinal0 [0x0030E616+1107478]\n\tOrdinal0 [0x002E7F89+950153]\n\tOrdinal0 [0x002E8F56+954198]\n\tGetHandleVerifier [0x00712CB2+3040210]\n\tGetHandleVerifier [0x00702BB4+2974420]\n\tGetHandleVerifier [0x004B6A0A+565546]\n\tGetHandleVerifier [0x004B5680+560544]\n\tOrdinal0 [0x003B9A5C+1808988]\n\tOrdinal0 [0x003BE3A8+1827752]\n\tOrdinal0 [0x003BE495+1827989]\n\tOrdinal0 [0x003C80A4+1867940]\n\tBaseThreadInitThunk [0x76816739+25]\n\tRtlGetFullPathName_UEx [0x771390AF+1215]\n\tRtlGetFullPathName_UEx [0x7713907D+1165]\n",
     "output_type": "error",
     "traceback": [
      "\u001b[1;31m---------------------------------------------------------------------------\u001b[0m",
      "\u001b[1;31mTimeoutException\u001b[0m                          Traceback (most recent call last)",
      "\u001b[1;32mC:\\Users\\HUCONS~1\\AppData\\Local\\Temp/ipykernel_10308/3147966300.py\u001b[0m in \u001b[0;36m<module>\u001b[1;34m\u001b[0m\n\u001b[0;32m     66\u001b[0m \u001b[1;31m# Clicking on Flights details element\u001b[0m\u001b[1;33m\u001b[0m\u001b[1;33m\u001b[0m\u001b[0m\n\u001b[0;32m     67\u001b[0m \u001b[0mButton\u001b[0m \u001b[1;33m=\u001b[0m \u001b[0mdriver\u001b[0m\u001b[1;33m.\u001b[0m\u001b[0mfind_elements\u001b[0m\u001b[1;33m(\u001b[0m\u001b[0mBy\u001b[0m\u001b[1;33m.\u001b[0m\u001b[0mXPATH\u001b[0m\u001b[1;33m,\u001b[0m\u001b[1;34m'//div[@class=\"link-color fs-12 cursor-pointer\"]/span'\u001b[0m\u001b[1;33m)\u001b[0m\u001b[1;33m\u001b[0m\u001b[1;33m\u001b[0m\u001b[0m\n\u001b[1;32m---> 68\u001b[1;33m \u001b[0mdriver\u001b[0m\u001b[1;33m.\u001b[0m\u001b[0mexecute_script\u001b[0m\u001b[1;33m(\u001b[0m\u001b[1;34m\"arguments[0].click();\"\u001b[0m\u001b[1;33m,\u001b[0m \u001b[0mWebDriverWait\u001b[0m\u001b[1;33m(\u001b[0m\u001b[0mdriver\u001b[0m\u001b[1;33m,\u001b[0m \u001b[1;36m20\u001b[0m\u001b[1;33m)\u001b[0m\u001b[1;33m.\u001b[0m\u001b[0muntil\u001b[0m\u001b[1;33m(\u001b[0m\u001b[0mEC\u001b[0m\u001b[1;33m.\u001b[0m\u001b[0melement_to_be_clickable\u001b[0m\u001b[1;33m(\u001b[0m\u001b[1;33m(\u001b[0m\u001b[0mBy\u001b[0m\u001b[1;33m.\u001b[0m\u001b[0mXPATH\u001b[0m\u001b[1;33m,\u001b[0m\u001b[1;34m'//div[@class=\"link-color fs-12 cursor-pointer\"]/span'\u001b[0m\u001b[1;33m)\u001b[0m\u001b[1;33m)\u001b[0m\u001b[1;33m)\u001b[0m\u001b[1;33m)\u001b[0m\u001b[1;33m\u001b[0m\u001b[1;33m\u001b[0m\u001b[0m\n\u001b[0m\u001b[0;32m     69\u001b[0m \u001b[0mtime\u001b[0m\u001b[1;33m.\u001b[0m\u001b[0msleep\u001b[0m\u001b[1;33m(\u001b[0m\u001b[1;36m0.25\u001b[0m\u001b[1;33m)\u001b[0m\u001b[1;33m\u001b[0m\u001b[1;33m\u001b[0m\u001b[0m\n\u001b[0;32m     70\u001b[0m \u001b[1;33m\u001b[0m\u001b[0m\n",
      "\u001b[1;32m~\\anaconda3\\lib\\site-packages\\selenium\\webdriver\\support\\wait.py\u001b[0m in \u001b[0;36muntil\u001b[1;34m(self, method, message)\u001b[0m\n\u001b[0;32m     88\u001b[0m             \u001b[1;32mif\u001b[0m \u001b[0mtime\u001b[0m\u001b[1;33m.\u001b[0m\u001b[0mmonotonic\u001b[0m\u001b[1;33m(\u001b[0m\u001b[1;33m)\u001b[0m \u001b[1;33m>\u001b[0m \u001b[0mend_time\u001b[0m\u001b[1;33m:\u001b[0m\u001b[1;33m\u001b[0m\u001b[1;33m\u001b[0m\u001b[0m\n\u001b[0;32m     89\u001b[0m                 \u001b[1;32mbreak\u001b[0m\u001b[1;33m\u001b[0m\u001b[1;33m\u001b[0m\u001b[0m\n\u001b[1;32m---> 90\u001b[1;33m         \u001b[1;32mraise\u001b[0m \u001b[0mTimeoutException\u001b[0m\u001b[1;33m(\u001b[0m\u001b[0mmessage\u001b[0m\u001b[1;33m,\u001b[0m \u001b[0mscreen\u001b[0m\u001b[1;33m,\u001b[0m \u001b[0mstacktrace\u001b[0m\u001b[1;33m)\u001b[0m\u001b[1;33m\u001b[0m\u001b[1;33m\u001b[0m\u001b[0m\n\u001b[0m\u001b[0;32m     91\u001b[0m \u001b[1;33m\u001b[0m\u001b[0m\n\u001b[0;32m     92\u001b[0m     \u001b[1;32mdef\u001b[0m \u001b[0muntil_not\u001b[0m\u001b[1;33m(\u001b[0m\u001b[0mself\u001b[0m\u001b[1;33m,\u001b[0m \u001b[0mmethod\u001b[0m\u001b[1;33m,\u001b[0m \u001b[0mmessage\u001b[0m\u001b[1;33m:\u001b[0m \u001b[0mstr\u001b[0m \u001b[1;33m=\u001b[0m \u001b[1;34m\"\"\u001b[0m\u001b[1;33m)\u001b[0m\u001b[1;33m:\u001b[0m\u001b[1;33m\u001b[0m\u001b[1;33m\u001b[0m\u001b[0m\n",
      "\u001b[1;31mTimeoutException\u001b[0m: Message: \nStacktrace:\nBacktrace:\n\tOrdinal0 [0x0041DF13+2219795]\n\tOrdinal0 [0x003B2841+1779777]\n\tOrdinal0 [0x002C423D+803389]\n\tOrdinal0 [0x002F3025+995365]\n\tOrdinal0 [0x002F31EB+995819]\n\tOrdinal0 [0x00320F52+1183570]\n\tOrdinal0 [0x0030E844+1108036]\n\tOrdinal0 [0x0031F192+1175954]\n\tOrdinal0 [0x0030E616+1107478]\n\tOrdinal0 [0x002E7F89+950153]\n\tOrdinal0 [0x002E8F56+954198]\n\tGetHandleVerifier [0x00712CB2+3040210]\n\tGetHandleVerifier [0x00702BB4+2974420]\n\tGetHandleVerifier [0x004B6A0A+565546]\n\tGetHandleVerifier [0x004B5680+560544]\n\tOrdinal0 [0x003B9A5C+1808988]\n\tOrdinal0 [0x003BE3A8+1827752]\n\tOrdinal0 [0x003BE495+1827989]\n\tOrdinal0 [0x003C80A4+1867940]\n\tBaseThreadInitThunk [0x76816739+25]\n\tRtlGetFullPathName_UEx [0x771390AF+1215]\n\tRtlGetFullPathName_UEx [0x7713907D+1165]\n"
     ]
    }
   ],
   "source": [
    "airlines = driver.find_elements(By.XPATH,\"//div[@class='fs-13 airline-name no-pad col-8']/span\")\n",
    "for i in airlines:\n",
    "    Airlines.append(i.text.replace(\"\\n\",\" \"))\n",
    "else :\n",
    "    pass\n",
    "\n",
    "# Extracting Aeroplane model  via xpath\n",
    "aeroplanes = driver.find_elements(By.XPATH,'//p[@class=\"normal fs-11 font-lightestgrey no-wrap fl-no\"]/span')\n",
    "for i in tqdm(aeroplanes):\n",
    "    Aeroplane.append(i.text) \n",
    "else:\n",
    "    pass\n",
    "\n",
    "# Extracting Departure Time of Filght via Xpath\n",
    "dept_times = driver.find_elements(By.XPATH,'//div[@class=\"i-b pr\"]')\n",
    "for i in tqdm(dept_times):\n",
    "    Dept_time.append(i.text)\n",
    "else :\n",
    "    pass\n",
    "\n",
    "# Extracting Arrival Time via xpath\n",
    "arrival = driver.find_elements(By.XPATH,'//p[@class=\"bold fs-15 mb-2 pr time\"]')\n",
    "for i in tqdm(arrival):\n",
    "    Arrival_time.append(i.text)\n",
    "else :\n",
    "    pass\n",
    "\n",
    "# Extracting Source of flight via Xpath\n",
    "source = driver.find_elements(By.XPATH,\"//div[@class='i-b col-4 no-wrap text-right dtime col-3']/p\")\n",
    "for i in tqdm(source):\n",
    "    Source.append(i.text)\n",
    "else :\n",
    "    pass\n",
    "\n",
    "# Extracting Destination of Flights via Xpath\n",
    "destination = driver.find_elements(By.XPATH,'//div[@class=\"i-b pdd-0 text-left atime col-5\"]/p[2]')\n",
    "for i in tqdm(destination):\n",
    "    Destination.append(i.text)\n",
    "else:\n",
    "    pass\n",
    "\n",
    "# Extracting Duration of Flights via Xpath\n",
    "duration = driver.find_elements(By.XPATH,'//div[@class=\"stop-cont pl-13\"]/p')\n",
    "for i in tqdm(duration):\n",
    "    Duration.append(i.text)\n",
    "else:\n",
    "    pass\n",
    "\n",
    "# Extracting stop details via Xpath\n",
    "stop = driver.find_elements(By.XPATH,\"//div[@class='stop-cont pl-13']/div/span\")\n",
    "for i in tqdm(stop):\n",
    "    Stops.append(i.text)\n",
    "else:\n",
    "    pass\n",
    "\n",
    "# Extracting Price of Flights via Xpath\n",
    "count = 0\n",
    "price = driver.find_elements(By.XPATH,'//div[@class=\"i-b tipsy fare-summary-tooltip fs-18\"]')\n",
    "for i in tqdm(price):\n",
    "    Price.append(i.text.replace(',',''))\n",
    "    count = count +1\n",
    "else:\n",
    "    count = count +1\n",
    "    pass\n",
    "\n",
    "# Clicking on Flights details element\n",
    "Button = driver.find_elements(By.XPATH,'//div[@class=\"link-color fs-12 cursor-pointer\"]/span')\n",
    "driver.execute_script(\"arguments[0].click();\", WebDriverWait(driver, 20).until(EC.element_to_be_clickable((By.XPATH,'//div[@class=\"link-color fs-12 cursor-pointer\"]/span'))))\n",
    "time.sleep(0.25)\n",
    "\n",
    "# Extracting Date of Flights via Xpath\n",
    "date = driver.find_element(By.XPATH,'//div[@class=\"bold fs-12 mb-5\"]')\n",
    "a = date.text\n",
    "for i in tqdm(range(count-1)):\n",
    "    Date.append(a)\n",
    "else:\n",
    "    pass"
   ]
  },
  {
   "cell_type": "code",
   "execution_count": 25,
   "id": "d498f481",
   "metadata": {},
   "outputs": [
    {
     "data": {
      "text/plain": [
       "(0, 0, 0, 0, 0, 0, 0, 0, 0, 0)"
      ]
     },
     "execution_count": 25,
     "metadata": {},
     "output_type": "execute_result"
    }
   ],
   "source": [
    "len(Aeroplane), len(Airlines), len(Dept_time), len(Arrival_time), len(Source), len(Destination), len(Duration), len(Stops),len(Price), len(Date)"
   ]
  },
  {
   "cell_type": "code",
   "execution_count": 26,
   "id": "7c410d84",
   "metadata": {},
   "outputs": [
    {
     "data": {
      "text/html": [
       "<div>\n",
       "<style scoped>\n",
       "    .dataframe tbody tr th:only-of-type {\n",
       "        vertical-align: middle;\n",
       "    }\n",
       "\n",
       "    .dataframe tbody tr th {\n",
       "        vertical-align: top;\n",
       "    }\n",
       "\n",
       "    .dataframe thead th {\n",
       "        text-align: right;\n",
       "    }\n",
       "</style>\n",
       "<table border=\"1\" class=\"dataframe\">\n",
       "  <thead>\n",
       "    <tr style=\"text-align: right;\">\n",
       "      <th></th>\n",
       "      <th>Airline</th>\n",
       "      <th>Aeroplane</th>\n",
       "      <th>Date</th>\n",
       "      <th>Departure_Time</th>\n",
       "      <th>Arrival_Time</th>\n",
       "      <th>Source</th>\n",
       "      <th>Destination</th>\n",
       "      <th>Stops</th>\n",
       "      <th>Duration</th>\n",
       "      <th>Price</th>\n",
       "    </tr>\n",
       "  </thead>\n",
       "  <tbody>\n",
       "  </tbody>\n",
       "</table>\n",
       "</div>"
      ],
      "text/plain": [
       "Empty DataFrame\n",
       "Columns: [Airline, Aeroplane, Date, Departure_Time, Arrival_Time, Source, Destination, Stops, Duration, Price]\n",
       "Index: []"
      ]
     },
     "execution_count": 26,
     "metadata": {},
     "output_type": "execute_result"
    }
   ],
   "source": [
    "Flight=pd.DataFrame()\n",
    "Flight[\"Airline\"]=Airlines\n",
    "Flight['Aeroplane'] = Aeroplane\n",
    "Flight[\"Date\"]=Date\n",
    "Flight[\"Departure_Time\"]=Dept_time\n",
    "Flight[\"Arrival_Time\"]=Arrival_time\n",
    "Flight[\"Source\"]=Source\n",
    "Flight[\"Destination\"]=Destination\n",
    "Flight[\"Stops\"]=Stops\n",
    "Flight[\"Duration\"]=Duration\n",
    "Flight[\"Price\"]=Price\n",
    "Flight.head()\n",
    "\n"
   ]
  },
  {
   "cell_type": "code",
   "execution_count": null,
   "id": "c0d814e0",
   "metadata": {},
   "outputs": [],
   "source": []
  }
 ],
 "metadata": {
  "kernelspec": {
   "display_name": "Python 3 (ipykernel)",
   "language": "python",
   "name": "python3"
  },
  "language_info": {
   "codemirror_mode": {
    "name": "ipython",
    "version": 3
   },
   "file_extension": ".py",
   "mimetype": "text/x-python",
   "name": "python",
   "nbconvert_exporter": "python",
   "pygments_lexer": "ipython3",
   "version": "3.9.7"
  }
 },
 "nbformat": 4,
 "nbformat_minor": 5
}
